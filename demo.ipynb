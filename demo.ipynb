{
 "cells": [
  {
   "cell_type": "code",
   "execution_count": null,
   "metadata": {},
   "outputs": [],
   "source": [
    "from ultralytics import YOLO\n",
    "\n",
    "# Load your YOLOv8 model\n",
    "model = YOLO('yolov8n.pt')  # Or your custom-trained weights file\n",
    "\n",
    "# Train on the Roboflow dataset\n",
    "model.train(data='../dataset/data.yaml', epochs=10, imgsz=640)\n",
    "\n",
    "# Evaluate the model\n",
    "metrics = model.val()\n"
   ]
  },
  {
   "cell_type": "code",
   "execution_count": null,
   "metadata": {},
   "outputs": [],
   "source": [
    "# Load your trained weights\n",
    "model = YOLO('path/to/your/best.pt')\n",
    "\n",
    "# Perform inference\n",
    "results = model('../dataset/test/IMG_1128_000035_jpg.rf.7eca880fa77a2b2c984e5c7883717264.jpg', save=True)\n",
    "\n",
    "# Display results\n",
    "results.show()\n"
   ]
  },
  {
   "cell_type": "code",
   "execution_count": null,
   "metadata": {},
   "outputs": [],
   "source": [
    "model.val(data='../dataset/data.yaml')"
   ]
  },
  {
   "cell_type": "code",
   "execution_count": null,
   "metadata": {},
   "outputs": [],
   "source": [
    "import matplotlib.pyplot as plt\n",
    "import cv2\n",
    "\n",
    "# Load an image and annotation\n",
    "image_path = '../dataset/train/images/IMG_1128_000035_jpg.rf.7eca880fa77a2b2c984e5c7883717264.jpg'\n",
    "image = cv2.imread(image_path)\n",
    "image = cv2.cvtColor(image, cv2.COLOR_BGR2RGB)\n",
    "\n",
    "# Display the image\n",
    "plt.imshow(image)\n",
    "plt.axis('off')\n",
    "plt.show()"
   ]
  }
 ],
 "metadata": {
  "kernelspec": {
   "display_name": "Python (YOLOv8)",
   "language": "python",
   "name": "yolo8-env"
  },
  "language_info": {
   "name": "python",
   "version": "3.12.4"
  }
 },
 "nbformat": 4,
 "nbformat_minor": 2
}
